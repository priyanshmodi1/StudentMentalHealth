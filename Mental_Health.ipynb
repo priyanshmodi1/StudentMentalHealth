{
 "cells": [
  {
   "cell_type": "markdown",
   "metadata": {},
   "source": []
  },
  {
   "cell_type": "markdown",
   "metadata": {},
   "source": [
    "## 1. Introduction"
   ]
  },
  {
   "cell_type": "markdown",
   "metadata": {},
   "source": [
    "Background and Motivation:\n",
    "\n",
    "According to Kaggle, the student mental health dataset was collected by a survey conducted in 2020 by Google forms from University students in order to examine their current academic situation and mental health. The motivation behind analyzing this dataset is to see how prevalent mental health issues are for university students and how this relates to various variables including but not limited to their gender, age, year in school, cGPA, and marital status. As a college student, this is a relatable topic and would be informative to see if there are any strong correlations between these variables."
   ]
  },
  {
   "cell_type": "markdown",
   "metadata": {},
   "source": [
    "Descriptive Analysis Research Question:\n",
    "What is the relationship between depression and gender in the dataset? Furthermore, how does this relationship between depression and gender change for different values of ages in the dataset?\n",
    "\n",
    "Inference Reserach Question:\n",
    "Is there an association between depression and gender in my population of all university students?\n",
    "\n",
    "Linear Regression Research Question:\n",
    "Is there a relationship between a student's age and their gender, marital status, and whether they have depression, axiety, or panic attack?\n",
    "\n",
    "Logistic Regression Research Question 4:\n",
    "Is there a linear relationship between the log odds of whether or not a university student has depression and their gender, age, year in school, and whether they have anxiety?"
   ]
  },
  {
   "cell_type": "code",
   "execution_count": 1,
   "metadata": {},
   "outputs": [],
   "source": [
    "#Imports here\n",
    "import pandas as pd\n",
    "import numpy as np\n",
    "import matplotlib.pyplot as plt\n",
    "import seaborn as sns; sns.set()\n",
    "from scipy.stats import norm, t, f\n",
    "import statsmodels.api as sm\n",
    "import statsmodels.formula.api as smf"
   ]
  },
  {
   "cell_type": "code",
   "execution_count": 2,
   "metadata": {},
   "outputs": [
    {
     "name": "stdout",
     "output_type": "stream",
     "text": [
      "(rows, columns): (101, 11)\n"
     ]
    },
    {
     "data": {
      "text/html": [
       "<div>\n",
       "<style scoped>\n",
       "    .dataframe tbody tr th:only-of-type {\n",
       "        vertical-align: middle;\n",
       "    }\n",
       "\n",
       "    .dataframe tbody tr th {\n",
       "        vertical-align: top;\n",
       "    }\n",
       "\n",
       "    .dataframe thead th {\n",
       "        text-align: right;\n",
       "    }\n",
       "</style>\n",
       "<table border=\"1\" class=\"dataframe\">\n",
       "  <thead>\n",
       "    <tr style=\"text-align: right;\">\n",
       "      <th></th>\n",
       "      <th>Timestamp</th>\n",
       "      <th>Choose your gender</th>\n",
       "      <th>Age</th>\n",
       "      <th>What is your course?</th>\n",
       "      <th>Your current year of Study</th>\n",
       "      <th>What is your CGPA?</th>\n",
       "      <th>Marital status</th>\n",
       "      <th>Do you have Depression?</th>\n",
       "      <th>Do you have Anxiety?</th>\n",
       "      <th>Do you have Panic attack?</th>\n",
       "      <th>Did you seek any specialist for a treatment?</th>\n",
       "    </tr>\n",
       "  </thead>\n",
       "  <tbody>\n",
       "    <tr>\n",
       "      <th>0</th>\n",
       "      <td>8/7/2020 12:02</td>\n",
       "      <td>Female</td>\n",
       "      <td>18.0</td>\n",
       "      <td>Engineering</td>\n",
       "      <td>year 1</td>\n",
       "      <td>3.00 - 3.49</td>\n",
       "      <td>No</td>\n",
       "      <td>Yes</td>\n",
       "      <td>No</td>\n",
       "      <td>Yes</td>\n",
       "      <td>No</td>\n",
       "    </tr>\n",
       "    <tr>\n",
       "      <th>1</th>\n",
       "      <td>8/7/2020 12:04</td>\n",
       "      <td>Male</td>\n",
       "      <td>21.0</td>\n",
       "      <td>Islamic education</td>\n",
       "      <td>year 2</td>\n",
       "      <td>3.00 - 3.49</td>\n",
       "      <td>No</td>\n",
       "      <td>No</td>\n",
       "      <td>Yes</td>\n",
       "      <td>No</td>\n",
       "      <td>No</td>\n",
       "    </tr>\n",
       "    <tr>\n",
       "      <th>2</th>\n",
       "      <td>8/7/2020 12:05</td>\n",
       "      <td>Male</td>\n",
       "      <td>19.0</td>\n",
       "      <td>BIT</td>\n",
       "      <td>Year 1</td>\n",
       "      <td>3.00 - 3.49</td>\n",
       "      <td>No</td>\n",
       "      <td>Yes</td>\n",
       "      <td>Yes</td>\n",
       "      <td>Yes</td>\n",
       "      <td>No</td>\n",
       "    </tr>\n",
       "    <tr>\n",
       "      <th>3</th>\n",
       "      <td>8/7/2020 12:06</td>\n",
       "      <td>Female</td>\n",
       "      <td>22.0</td>\n",
       "      <td>Laws</td>\n",
       "      <td>year 3</td>\n",
       "      <td>3.00 - 3.49</td>\n",
       "      <td>Yes</td>\n",
       "      <td>Yes</td>\n",
       "      <td>No</td>\n",
       "      <td>No</td>\n",
       "      <td>No</td>\n",
       "    </tr>\n",
       "    <tr>\n",
       "      <th>4</th>\n",
       "      <td>8/7/2020 12:13</td>\n",
       "      <td>Male</td>\n",
       "      <td>23.0</td>\n",
       "      <td>Mathemathics</td>\n",
       "      <td>year 4</td>\n",
       "      <td>3.00 - 3.49</td>\n",
       "      <td>No</td>\n",
       "      <td>No</td>\n",
       "      <td>No</td>\n",
       "      <td>No</td>\n",
       "      <td>No</td>\n",
       "    </tr>\n",
       "    <tr>\n",
       "      <th>5</th>\n",
       "      <td>8/7/2020 12:31</td>\n",
       "      <td>Male</td>\n",
       "      <td>19.0</td>\n",
       "      <td>Engineering</td>\n",
       "      <td>Year 2</td>\n",
       "      <td>3.50 - 4.00</td>\n",
       "      <td>No</td>\n",
       "      <td>No</td>\n",
       "      <td>No</td>\n",
       "      <td>Yes</td>\n",
       "      <td>No</td>\n",
       "    </tr>\n",
       "  </tbody>\n",
       "</table>\n",
       "</div>"
      ],
      "text/plain": [
       "        Timestamp Choose your gender   Age What is your course?  \\\n",
       "0  8/7/2020 12:02             Female  18.0          Engineering   \n",
       "1  8/7/2020 12:04               Male  21.0    Islamic education   \n",
       "2  8/7/2020 12:05               Male  19.0                  BIT   \n",
       "3  8/7/2020 12:06             Female  22.0                 Laws   \n",
       "4  8/7/2020 12:13               Male  23.0         Mathemathics   \n",
       "5  8/7/2020 12:31               Male  19.0          Engineering   \n",
       "\n",
       "  Your current year of Study What is your CGPA? Marital status  \\\n",
       "0                     year 1        3.00 - 3.49             No   \n",
       "1                     year 2        3.00 - 3.49             No   \n",
       "2                     Year 1        3.00 - 3.49             No   \n",
       "3                     year 3        3.00 - 3.49            Yes   \n",
       "4                     year 4        3.00 - 3.49             No   \n",
       "5                     Year 2        3.50 - 4.00             No   \n",
       "\n",
       "  Do you have Depression? Do you have Anxiety? Do you have Panic attack?  \\\n",
       "0                     Yes                   No                       Yes   \n",
       "1                      No                  Yes                        No   \n",
       "2                     Yes                  Yes                       Yes   \n",
       "3                     Yes                   No                        No   \n",
       "4                      No                   No                        No   \n",
       "5                      No                   No                       Yes   \n",
       "\n",
       "  Did you seek any specialist for a treatment?  \n",
       "0                                           No  \n",
       "1                                           No  \n",
       "2                                           No  \n",
       "3                                           No  \n",
       "4                                           No  \n",
       "5                                           No  "
      ]
     },
     "execution_count": 2,
     "metadata": {},
     "output_type": "execute_result"
    }
   ],
   "source": [
    "df = pd.read_csv('mentalhealth.csv')\n",
    "print('(rows, columns):',df.shape)\n",
    "df.head(6)"
   ]
  },
  {
   "cell_type": "code",
   "execution_count": 3,
   "metadata": {},
   "outputs": [
    {
     "data": {
      "text/plain": [
       "Timestamp                                       0\n",
       "Choose your gender                              0\n",
       "Age                                             1\n",
       "What is your course?                            0\n",
       "Your current year of Study                      0\n",
       "What is your CGPA?                              0\n",
       "Marital status                                  0\n",
       "Do you have Depression?                         0\n",
       "Do you have Anxiety?                            0\n",
       "Do you have Panic attack?                       0\n",
       "Did you seek any specialist for a treatment?    0\n",
       "dtype: int64"
      ]
     },
     "execution_count": 3,
     "metadata": {},
     "output_type": "execute_result"
    }
   ],
   "source": [
    "# Check to see if there are any nan values\n",
    "df.isna().sum()"
   ]
  },
  {
   "cell_type": "code",
   "execution_count": 4,
   "metadata": {},
   "outputs": [
    {
     "name": "stdout",
     "output_type": "stream",
     "text": [
      "(100, 11)\n"
     ]
    },
    {
     "data": {
      "text/plain": [
       "Timestamp                                        object\n",
       "Choose your gender                               object\n",
       "Age                                             float64\n",
       "What is your course?                             object\n",
       "Your current year of Study                       object\n",
       "What is your CGPA?                               object\n",
       "Marital status                                   object\n",
       "Do you have Depression?                          object\n",
       "Do you have Anxiety?                             object\n",
       "Do you have Panic attack?                        object\n",
       "Did you seek any specialist for a treatment?     object\n",
       "dtype: object"
      ]
     },
     "execution_count": 4,
     "metadata": {},
     "output_type": "execute_result"
    }
   ],
   "source": [
    "# drop all nan values and check the types to make sure they make sense\n",
    "df = df.dropna()\n",
    "print(df.shape)\n",
    "df.dtypes"
   ]
  },
  {
   "cell_type": "code",
   "execution_count": 5,
   "metadata": {},
   "outputs": [
    {
     "name": "stdout",
     "output_type": "stream",
     "text": [
      "['Female' 'Male']\n",
      "[18. 21. 19. 22. 23. 20. 24.]\n",
      "['Engineering' 'Islamic education' 'BIT' 'Laws' 'Mathemathics'\n",
      " 'Pendidikan islam' 'BCS' 'Human Resources' 'Irkhs' 'Psychology' 'KENMS'\n",
      " 'Accounting ' 'ENM' 'Marine science' 'KOE' 'Banking Studies'\n",
      " 'Business Administration' 'Law' 'KIRKHS' 'Usuluddin ' 'TAASL' 'Engine'\n",
      " 'ALA' 'Biomedical science' 'koe' 'Kirkhs' 'BENL' 'Benl' 'IT' 'CTS'\n",
      " 'engin' 'Econs' 'MHSC' 'Malcom' 'Kop' 'Human Sciences ' 'Biotechnology'\n",
      " 'Communication ' 'Diploma Nursing' 'Pendidikan Islam ' 'Radiography'\n",
      " 'psychology' 'Fiqh fatwa ' 'DIPLOMA TESL' 'Koe' 'Fiqh'\n",
      " 'Islamic Education' 'Nursing ' 'Pendidikan Islam']\n",
      "['year 1' 'year 2' 'Year 1' 'year 3' 'year 4' 'Year 2' 'Year 3']\n",
      "['3.00 - 3.49' '3.50 - 4.00' '3.50 - 4.00 ' '2.50 - 2.99' '2.00 - 2.49'\n",
      " '0 - 1.99']\n",
      "['No' 'Yes']\n",
      "['Yes' 'No']\n",
      "['No' 'Yes']\n",
      "['Yes' 'No']\n",
      "['No' 'Yes']\n"
     ]
    }
   ],
   "source": [
    "# Check unique values for each column to check for missing values or for redundant categories\n",
    "columns = df.columns.tolist()\n",
    "columns = columns[1:]\n",
    "for col in columns:\n",
    "    print(df[col].unique())"
   ]
  },
  {
   "cell_type": "code",
   "execution_count": 6,
   "metadata": {},
   "outputs": [
    {
     "name": "stdout",
     "output_type": "stream",
     "text": [
      "(100, 11)\n"
     ]
    },
    {
     "data": {
      "text/html": [
       "<div>\n",
       "<style scoped>\n",
       "    .dataframe tbody tr th:only-of-type {\n",
       "        vertical-align: middle;\n",
       "    }\n",
       "\n",
       "    .dataframe tbody tr th {\n",
       "        vertical-align: top;\n",
       "    }\n",
       "\n",
       "    .dataframe thead th {\n",
       "        text-align: right;\n",
       "    }\n",
       "</style>\n",
       "<table border=\"1\" class=\"dataframe\">\n",
       "  <thead>\n",
       "    <tr style=\"text-align: right;\">\n",
       "      <th></th>\n",
       "      <th>Timestamp</th>\n",
       "      <th>Gender</th>\n",
       "      <th>Age</th>\n",
       "      <th>Major</th>\n",
       "      <th>Year</th>\n",
       "      <th>cGPA</th>\n",
       "      <th>Married</th>\n",
       "      <th>depression</th>\n",
       "      <th>anxiety</th>\n",
       "      <th>panic_attack</th>\n",
       "      <th>treatment</th>\n",
       "    </tr>\n",
       "  </thead>\n",
       "  <tbody>\n",
       "    <tr>\n",
       "      <th>0</th>\n",
       "      <td>8/7/2020 12:02</td>\n",
       "      <td>Female</td>\n",
       "      <td>18.0</td>\n",
       "      <td>Engineering</td>\n",
       "      <td>year 1</td>\n",
       "      <td>3.00 - 3.49</td>\n",
       "      <td>No</td>\n",
       "      <td>Yes</td>\n",
       "      <td>No</td>\n",
       "      <td>Yes</td>\n",
       "      <td>No</td>\n",
       "    </tr>\n",
       "    <tr>\n",
       "      <th>1</th>\n",
       "      <td>8/7/2020 12:04</td>\n",
       "      <td>Male</td>\n",
       "      <td>21.0</td>\n",
       "      <td>Islamic education</td>\n",
       "      <td>year 2</td>\n",
       "      <td>3.00 - 3.49</td>\n",
       "      <td>No</td>\n",
       "      <td>No</td>\n",
       "      <td>Yes</td>\n",
       "      <td>No</td>\n",
       "      <td>No</td>\n",
       "    </tr>\n",
       "    <tr>\n",
       "      <th>2</th>\n",
       "      <td>8/7/2020 12:05</td>\n",
       "      <td>Male</td>\n",
       "      <td>19.0</td>\n",
       "      <td>BIT</td>\n",
       "      <td>Year 1</td>\n",
       "      <td>3.00 - 3.49</td>\n",
       "      <td>No</td>\n",
       "      <td>Yes</td>\n",
       "      <td>Yes</td>\n",
       "      <td>Yes</td>\n",
       "      <td>No</td>\n",
       "    </tr>\n",
       "    <tr>\n",
       "      <th>3</th>\n",
       "      <td>8/7/2020 12:06</td>\n",
       "      <td>Female</td>\n",
       "      <td>22.0</td>\n",
       "      <td>Laws</td>\n",
       "      <td>year 3</td>\n",
       "      <td>3.00 - 3.49</td>\n",
       "      <td>Yes</td>\n",
       "      <td>Yes</td>\n",
       "      <td>No</td>\n",
       "      <td>No</td>\n",
       "      <td>No</td>\n",
       "    </tr>\n",
       "    <tr>\n",
       "      <th>4</th>\n",
       "      <td>8/7/2020 12:13</td>\n",
       "      <td>Male</td>\n",
       "      <td>23.0</td>\n",
       "      <td>Mathemathics</td>\n",
       "      <td>year 4</td>\n",
       "      <td>3.00 - 3.49</td>\n",
       "      <td>No</td>\n",
       "      <td>No</td>\n",
       "      <td>No</td>\n",
       "      <td>No</td>\n",
       "      <td>No</td>\n",
       "    </tr>\n",
       "  </tbody>\n",
       "</table>\n",
       "</div>"
      ],
      "text/plain": [
       "        Timestamp  Gender   Age              Major    Year         cGPA  \\\n",
       "0  8/7/2020 12:02  Female  18.0        Engineering  year 1  3.00 - 3.49   \n",
       "1  8/7/2020 12:04    Male  21.0  Islamic education  year 2  3.00 - 3.49   \n",
       "2  8/7/2020 12:05    Male  19.0                BIT  Year 1  3.00 - 3.49   \n",
       "3  8/7/2020 12:06  Female  22.0               Laws  year 3  3.00 - 3.49   \n",
       "4  8/7/2020 12:13    Male  23.0       Mathemathics  year 4  3.00 - 3.49   \n",
       "\n",
       "  Married depression anxiety panic_attack treatment  \n",
       "0      No        Yes      No          Yes        No  \n",
       "1      No         No     Yes           No        No  \n",
       "2      No        Yes     Yes          Yes        No  \n",
       "3     Yes        Yes      No           No        No  \n",
       "4      No         No      No           No        No  "
      ]
     },
     "execution_count": 6,
     "metadata": {},
     "output_type": "execute_result"
    }
   ],
   "source": [
    "# rename the column names to make it similar and easier to refer to\n",
    "df = df.rename(columns={'Choose your gender': 'Gender','What is your course?':'Major','What is your CGPA?':'cGPA','Marital status':'Married','Your current year of Study':'Year','Do you have Depression?':'depression','Do you have Anxiety?':'anxiety','Do you have Panic attack?':'panic_attack','Did you seek any specialist for a treatment?':'treatment'})\n",
    "print(df.shape)\n",
    "df.head()"
   ]
  },
  {
   "cell_type": "code",
   "execution_count": 7,
   "metadata": {},
   "outputs": [
    {
     "data": {
      "text/plain": [
       "Year 1    42\n",
       "Year 2    26\n",
       "Year 3    24\n",
       "Year 4     8\n",
       "Name: Year, dtype: int64"
      ]
     },
     "execution_count": 7,
     "metadata": {},
     "output_type": "execute_result"
    }
   ],
   "source": [
    "# combine redundant categories for Year\n",
    "df['Year'] = df['Year'].replace(['year 1','year 2','year 3','year 4'], ['Year 1','Year 2','Year 3','Year 4'])\n",
    "df[\"Year\"].value_counts()"
   ]
  },
  {
   "cell_type": "code",
   "execution_count": 8,
   "metadata": {},
   "outputs": [
    {
     "data": {
      "text/plain": [
       "3.50 - 4.00    48\n",
       "3.00 - 3.49    43\n",
       "2.50 - 2.99     4\n",
       "0 - 1.99        3\n",
       "2.00 - 2.49     2\n",
       "Name: cGPA, dtype: int64"
      ]
     },
     "execution_count": 8,
     "metadata": {},
     "output_type": "execute_result"
    }
   ],
   "source": [
    "# combine redundant categories for cGPA\n",
    "df['cGPA'] = df['cGPA'].replace('3.50 - 4.00 ','3.50 - 4.00')\n",
    "df['cGPA'].value_counts()"
   ]
  },
  {
   "cell_type": "markdown",
   "metadata": {},
   "source": [
    "The limitation in the data is that we do not know exactly what subset of college students the survey was taken from; therefore, we do not know for sure if this is a random sample. In addition, the data only hold 100 observations, which is a pretty small sample size. This causes us to have certain conditions like independence is not quite met for our analysis as we will see later in the sections. Our data contains information of 100 university students with their age, gender, course of study (major), year in university, cGPA, and whether or not they have depression, anxiety, panic attack, and if they receive treatment from a specialist. Not included in the data that I would want to add are their socioeconomic standing, family history, their location, and size of the university that they attend."
   ]
  },
  {
   "cell_type": "markdown",
   "metadata": {},
   "source": [
    "## 2. Descriptive Analytics"
   ]
  },
  {
   "cell_type": "markdown",
   "metadata": {},
   "source": [
    "What is the relationship between depression and gender in the dataset? Furthermore, how does the distribution of ages vary based on gender and whether one has depression?"
   ]
  },
  {
   "cell_type": "code",
   "execution_count": 65,
   "metadata": {},
   "outputs": [
    {
     "data": {
      "text/html": [
       "<div>\n",
       "<style scoped>\n",
       "    .dataframe tbody tr th:only-of-type {\n",
       "        vertical-align: middle;\n",
       "    }\n",
       "\n",
       "    .dataframe tbody tr th {\n",
       "        vertical-align: top;\n",
       "    }\n",
       "\n",
       "    .dataframe thead th {\n",
       "        text-align: right;\n",
       "    }\n",
       "</style>\n",
       "<table border=\"1\" class=\"dataframe\">\n",
       "  <thead>\n",
       "    <tr style=\"text-align: right;\">\n",
       "      <th>depression</th>\n",
       "      <th>No</th>\n",
       "      <th>Yes</th>\n",
       "    </tr>\n",
       "    <tr>\n",
       "      <th>Gender</th>\n",
       "      <th></th>\n",
       "      <th></th>\n",
       "    </tr>\n",
       "  </thead>\n",
       "  <tbody>\n",
       "    <tr>\n",
       "      <th>Female</th>\n",
       "      <td>0.613333</td>\n",
       "      <td>0.386667</td>\n",
       "    </tr>\n",
       "    <tr>\n",
       "      <th>Male</th>\n",
       "      <td>0.760000</td>\n",
       "      <td>0.240000</td>\n",
       "    </tr>\n",
       "  </tbody>\n",
       "</table>\n",
       "</div>"
      ],
      "text/plain": [
       "depression        No       Yes\n",
       "Gender                        \n",
       "Female      0.613333  0.386667\n",
       "Male        0.760000  0.240000"
      ]
     },
     "execution_count": 65,
     "metadata": {},
     "output_type": "execute_result"
    }
   ],
   "source": [
    "# histogram of depression rates based on gender\n",
    "t = pd.crosstab(df['Gender'], df['depression'],normalize='index')\n",
    "t"
   ]
  },
  {
   "cell_type": "code",
   "execution_count": 70,
   "metadata": {},
   "outputs": [
    {
     "data": {
      "image/png": "[encoded data removed]",
      "text/plain": [
       "<Figure size 432x288 with 1 Axes>"
      ]
     },
     "metadata": {},
     "output_type": "display_data"
    }
   ],
   "source": [
    "t.plot.bar()\n",
    "plt.legend(loc='upper right')\n",
    "plt.title('Percentage with Depression based on Gender')\n",
    "plt.xlabel(\"Gender\")\n",
    "plt.ylabel(\"Percentage of Gender with/without Depression\")\n",
    "plt.ylim([0,1])\n",
    "plt.show()"
   ]
  },
  {
   "cell_type": "code",
   "execution_count": 72,
   "metadata": {},
   "outputs": [
    {
     "data": {
      "image/png": "[encoded data removed]",
      "text/plain": [
       "<Figure size 432x288 with 1 Axes>"
      ]
     },
     "metadata": {},
     "output_type": "display_data"
    }
   ],
   "source": [
    "# violin plot of age depending on depression and gender\n",
    "sns.violinplot(x=\"depression\", y='Age', hue='Gender', data=df)\n",
    "plt.title('Relationship between Age, Gender, and Whether One has Depression')\n",
    "plt.legend(bbox_to_anchor=(1.05, 1), loc='upper left', borderaxespad=0)\n",
    "plt.show()"
   ]
  },
  {
   "cell_type": "code",
   "execution_count": 77,
   "metadata": {},
   "outputs": [
    {
     "name": "stdout",
     "output_type": "stream",
     "text": [
      "median age for males with depression: 18.5\n",
      "median age for females with depression 19.0\n",
      "median age for males without depression 21.0\n",
      "median age for females without depression 19.0\n"
     ]
    }
   ],
   "source": [
    "medage_male_dep = df[(df[\"Gender\"] == 'Male')&(df[\"depression\"] == \"Yes\")]['Age'].median()\n",
    "medage_fem_dep = df[(df[\"Gender\"] == 'Female')&(df[\"depression\"] == \"Yes\")]['Age'].median()\n",
    "medage_male_nd = df[(df[\"Gender\"] == 'Male')&(df[\"depression\"] == \"No\")]['Age'].median()\n",
    "medage_fem_nd = df[(df[\"Gender\"] == 'Female')&(df[\"depression\"] == \"No\")]['Age'].median()\n",
    "print('median age for males with depression:',medage_male_dep)\n",
    "print('median age for females with depression',medage_fem_dep)\n",
    "print('median age for males without depression',medage_male_nd)\n",
    "print('median age for females without depression',medage_fem_nd)"
   ]
  },
  {
   "cell_type": "markdown",
   "metadata": {},
   "source": [
    "Based on the histogram that visualizes the percentage of university students with or without depression based on gender, we can see that females have a higher percentage with depression of about 38.7 percenage compared to males with depression of about 24 percent. Next, we compared the distribution of ages based on gender and whether one has depression using the violinplots and the median age summary statistics for each of the four groups, we found that of the people who are depressed, the median ages are slightly greater for women compared to men with values 19 and 18.5 respectively. This difference is not much however. The spread for females is much greater when looking at Q1-Q3 so it's hard to compare the two. One noticeable difference is that males without depression have a median age of 21 which is greater compared to those with depression and females without depression. Females seem to not differ much in age distribution whether they have depression or not. However, for males, it seems that those who have depression are younger than those who reported to not have depression."
   ]
  },
  {
   "cell_type": "markdown",
   "metadata": {},
   "source": [
    "## 3. Inference"
   ]
  },
  {
   "cell_type": "markdown",
   "metadata": {},
   "source": [
    "Is there an association between depression and gender in my population of all university students?\n",
    "\n",
    "Hypothesis test to see if there is an association between having depression and gender:\n",
    "\n",
    "Ho : p_female − p_male = 0\\\n",
    "HA : p_female − p_male ≠ 0"
   ]
  },
  {
   "cell_type": "markdown",
   "metadata": {},
   "source": [
    "Assumptions:\n",
    "1. Sample of females is randomly selected and 75 < 10% of all depressed women (MET)\n",
    "2. Sample of males is randomly selected and 25 < 10% of all depressed women (MET)\n",
    "3. Female: n1(p1_hat) = 29 > 10 | n1(1-p1_hat) = 46 > 10 (MET)\n",
    "4. Male: n2(p2_hat) = 6 < 10 | n2(1-p2_hat) = 19 > 10 (NOT MET)\n",
    "5. Sample of males and females are independent of each other.\n",
    "\n",
    "Due to the fact that 6 depressed males is less than 10, the independence condition is not met and therefore we must make inferences with caution."
   ]
  },
  {
   "cell_type": "code",
   "execution_count": 34,
   "metadata": {},
   "outputs": [
    {
     "data": {
      "text/html": [
       "<div>\n",
       "<style scoped>\n",
       "    .dataframe tbody tr th:only-of-type {\n",
       "        vertical-align: middle;\n",
       "    }\n",
       "\n",
       "    .dataframe tbody tr th {\n",
       "        vertical-align: top;\n",
       "    }\n",
       "\n",
       "    .dataframe thead th {\n",
       "        text-align: right;\n",
       "    }\n",
       "</style>\n",
       "<table border=\"1\" class=\"dataframe\">\n",
       "  <thead>\n",
       "    <tr style=\"text-align: right;\">\n",
       "      <th>depression</th>\n",
       "      <th>No</th>\n",
       "      <th>Yes</th>\n",
       "    </tr>\n",
       "    <tr>\n",
       "      <th>Gender</th>\n",
       "      <th></th>\n",
       "      <th></th>\n",
       "    </tr>\n",
       "  </thead>\n",
       "  <tbody>\n",
       "    <tr>\n",
       "      <th>Female</th>\n",
       "      <td>46</td>\n",
       "      <td>29</td>\n",
       "    </tr>\n",
       "    <tr>\n",
       "      <th>Male</th>\n",
       "      <td>19</td>\n",
       "      <td>6</td>\n",
       "    </tr>\n",
       "  </tbody>\n",
       "</table>\n",
       "</div>"
      ],
      "text/plain": [
       "depression  No  Yes\n",
       "Gender             \n",
       "Female      46   29\n",
       "Male        19    6"
      ]
     },
     "execution_count": 34,
     "metadata": {},
     "output_type": "execute_result"
    }
   ],
   "source": [
    "pd.crosstab(df['Gender'], df['depression'])"
   ]
  },
  {
   "cell_type": "code",
   "execution_count": 35,
   "metadata": {},
   "outputs": [
    {
     "name": "stdout",
     "output_type": "stream",
     "text": [
      "p-hat female: 0.3867 | p-hat male: 0.24\n"
     ]
    }
   ],
   "source": [
    "df_female = df[df['Gender'] == \"Female\"]\n",
    "df_male = df[df['Gender'] == \"Male\"]\n",
    "phat_female = df_female['depression'].value_counts(normalize=True)[1]\n",
    "phat_male = df_male['depression'].value_counts(normalize=True)[1]\n",
    "print(\"p-hat female:\", round(phat_female,4), \"| p-hat male:\", phat_male)"
   ]
  },
  {
   "cell_type": "code",
   "execution_count": 40,
   "metadata": {},
   "outputs": [
    {
     "name": "stdout",
     "output_type": "stream",
     "text": [
      "29.0\n",
      "46.0\n",
      "6.0\n",
      "19.0\n"
     ]
    }
   ],
   "source": [
    "# check for conditions\n",
    "n_fem = df_female.shape[0]\n",
    "n_male = df_male.shape[0]\n",
    "print(n_fem*(phat_female))\n",
    "print(n_fem*(1-phat_female))\n",
    "print(n_male*(phat_male))\n",
    "print(n_male*(1-phat_male))"
   ]
  },
  {
   "cell_type": "code",
   "execution_count": 41,
   "metadata": {},
   "outputs": [
    {
     "data": {
      "text/plain": [
       "1.3315005718713655"
      ]
     },
     "execution_count": 41,
     "metadata": {},
     "output_type": "execute_result"
    }
   ],
   "source": [
    "phat = (6 + 29) / (46 + 29 + 19 + 6) # from table above\n",
    "test_stat = (phat_female - phat_male - 0) / np.sqrt(phat * (1 - phat) * ((1/n_fem) + (1/n_male)))\n",
    "test_stat"
   ]
  },
  {
   "cell_type": "code",
   "execution_count": 43,
   "metadata": {},
   "outputs": [
    {
     "name": "stdout",
     "output_type": "stream",
     "text": [
      "pvalue: 0.1830243569513792\n"
     ]
    }
   ],
   "source": [
    "pval = 2*(1-norm.cdf(test_stat))\n",
    "print('pvalue:' , pval)"
   ]
  },
  {
   "cell_type": "markdown",
   "metadata": {},
   "source": [
    "With a p-value of 0.18 is greater than most reasonable significant levels. I would fail to reject the null hypothesis because there is not enough evidence to suggest that the proportion of females who are depressed is the NOT the same as the proportion of males who are depressed. We can infer that for our population of all university students, there is no difference between the depression rates across the two genders."
   ]
  },
  {
   "cell_type": "markdown",
   "metadata": {},
   "source": [
    "## 4. Linear Regression"
   ]
  },
  {
   "cell_type": "markdown",
   "metadata": {},
   "source": [
    "Is there a linear relationship between a student's age and their gender, marital status, whether he/she has depression, anxiety, or panic attack?"
   ]
  },
  {
   "cell_type": "code",
   "execution_count": 225,
   "metadata": {},
   "outputs": [
    {
     "data": {
      "text/html": [
       "<table class=\"simpletable\">\n",
       "<caption>OLS Regression Results</caption>\n",
       "<tr>\n",
       "  <th>Dep. Variable:</th>           <td>Age</td>       <th>  R-squared:         </th> <td>   0.045</td>\n",
       "</tr>\n",
       "<tr>\n",
       "  <th>Model:</th>                   <td>OLS</td>       <th>  Adj. R-squared:    </th> <td>  -0.006</td>\n",
       "</tr>\n",
       "<tr>\n",
       "  <th>Method:</th>             <td>Least Squares</td>  <th>  F-statistic:       </th> <td>  0.8835</td>\n",
       "</tr>\n",
       "<tr>\n",
       "  <th>Date:</th>             <td>Sun, 30 Apr 2023</td> <th>  Prob (F-statistic):</th>  <td> 0.495</td> \n",
       "</tr>\n",
       "<tr>\n",
       "  <th>Time:</th>                 <td>12:24:41</td>     <th>  Log-Likelihood:    </th> <td> -230.58</td>\n",
       "</tr>\n",
       "<tr>\n",
       "  <th>No. Observations:</th>      <td>   100</td>      <th>  AIC:               </th> <td>   473.2</td>\n",
       "</tr>\n",
       "<tr>\n",
       "  <th>Df Residuals:</th>          <td>    94</td>      <th>  BIC:               </th> <td>   488.8</td>\n",
       "</tr>\n",
       "<tr>\n",
       "  <th>Df Model:</th>              <td>     5</td>      <th>                     </th>     <td> </td>   \n",
       "</tr>\n",
       "<tr>\n",
       "  <th>Covariance Type:</th>      <td>nonrobust</td>    <th>                     </th>     <td> </td>   \n",
       "</tr>\n",
       "</table>\n",
       "<table class=\"simpletable\">\n",
       "<tr>\n",
       "           <td></td>              <th>coef</th>     <th>std err</th>      <th>t</th>      <th>P>|t|</th>  <th>[0.025</th>    <th>0.975]</th>  \n",
       "</tr>\n",
       "<tr>\n",
       "  <th>Intercept</th>           <td>   20.6946</td> <td>    0.395</td> <td>   52.364</td> <td> 0.000</td> <td>   19.910</td> <td>   21.479</td>\n",
       "</tr>\n",
       "<tr>\n",
       "  <th>Gender[T.Male]</th>      <td>   -0.0551</td> <td>    0.588</td> <td>   -0.094</td> <td> 0.925</td> <td>   -1.222</td> <td>    1.112</td>\n",
       "</tr>\n",
       "<tr>\n",
       "  <th>Married[T.Yes]</th>      <td>    1.4328</td> <td>    0.866</td> <td>    1.655</td> <td> 0.101</td> <td>   -0.286</td> <td>    3.152</td>\n",
       "</tr>\n",
       "<tr>\n",
       "  <th>depression[T.Yes]</th>   <td>   -1.0115</td> <td>    0.689</td> <td>   -1.469</td> <td> 0.145</td> <td>   -2.379</td> <td>    0.356</td>\n",
       "</tr>\n",
       "<tr>\n",
       "  <th>anxiety[T.Yes]</th>      <td>   -0.3330</td> <td>    0.555</td> <td>   -0.600</td> <td> 0.550</td> <td>   -1.435</td> <td>    0.769</td>\n",
       "</tr>\n",
       "<tr>\n",
       "  <th>panic_attack[T.Yes]</th> <td>    0.2641</td> <td>    0.557</td> <td>    0.474</td> <td> 0.636</td> <td>   -0.842</td> <td>    1.370</td>\n",
       "</tr>\n",
       "</table>\n",
       "<table class=\"simpletable\">\n",
       "<tr>\n",
       "  <th>Omnibus:</th>       <td>349.558</td> <th>  Durbin-Watson:     </th> <td>   1.633</td>\n",
       "</tr>\n",
       "<tr>\n",
       "  <th>Prob(Omnibus):</th> <td> 0.000</td>  <th>  Jarque-Bera (JB):  </th> <td>  11.651</td>\n",
       "</tr>\n",
       "<tr>\n",
       "  <th>Skew:</th>          <td> 0.325</td>  <th>  Prob(JB):          </th> <td> 0.00295</td>\n",
       "</tr>\n",
       "<tr>\n",
       "  <th>Kurtosis:</th>      <td> 1.459</td>  <th>  Cond. No.          </th> <td>    4.98</td>\n",
       "</tr>\n",
       "</table><br/><br/>Notes:<br/>[1] Standard Errors assume that the covariance matrix of the errors is correctly specified."
      ],
      "text/plain": [
       "<class 'statsmodels.iolib.summary.Summary'>\n",
       "\"\"\"\n",
       "                            OLS Regression Results                            \n",
       "==============================================================================\n",
       "Dep. Variable:                    Age   R-squared:                       0.045\n",
       "Model:                            OLS   Adj. R-squared:                 -0.006\n",
       "Method:                 Least Squares   F-statistic:                    0.8835\n",
       "Date:                Sun, 30 Apr 2023   Prob (F-statistic):              0.495\n",
       "Time:                        12:24:41   Log-Likelihood:                -230.58\n",
       "No. Observations:                 100   AIC:                             473.2\n",
       "Df Residuals:                      94   BIC:                             488.8\n",
       "Df Model:                           5                                         \n",
       "Covariance Type:            nonrobust                                         \n",
       "=======================================================================================\n",
       "                          coef    std err          t      P>|t|      [0.025      0.975]\n",
       "---------------------------------------------------------------------------------------\n",
       "Intercept              20.6946      0.395     52.364      0.000      19.910      21.479\n",
       "Gender[T.Male]         -0.0551      0.588     -0.094      0.925      -1.222       1.112\n",
       "Married[T.Yes]          1.4328      0.866      1.655      0.101      -0.286       3.152\n",
       "depression[T.Yes]      -1.0115      0.689     -1.469      0.145      -2.379       0.356\n",
       "anxiety[T.Yes]         -0.3330      0.555     -0.600      0.550      -1.435       0.769\n",
       "panic_attack[T.Yes]     0.2641      0.557      0.474      0.636      -0.842       1.370\n",
       "==============================================================================\n",
       "Omnibus:                      349.558   Durbin-Watson:                   1.633\n",
       "Prob(Omnibus):                  0.000   Jarque-Bera (JB):               11.651\n",
       "Skew:                           0.325   Prob(JB):                      0.00295\n",
       "Kurtosis:                       1.459   Cond. No.                         4.98\n",
       "==============================================================================\n",
       "\n",
       "Notes:\n",
       "[1] Standard Errors assume that the covariance matrix of the errors is correctly specified.\n",
       "\"\"\""
      ]
     },
     "execution_count": 225,
     "metadata": {},
     "output_type": "execute_result"
    }
   ],
   "source": [
    "results = smf.ols('Age ~ Gender+Married+depression+anxiety+panic_attack', data=df).fit()\n",
    "results.summary()"
   ]
  },
  {
   "cell_type": "markdown",
   "metadata": {},
   "source": [
    "predicted age = (20.6946)+(-0.0551)(Male)+(1.4328)(Married)+(-1.0115)(depression)+(-0.3330)(anxiety) +(0.2641)(panic_attack)\n",
    "\n",
    "where male, married, depression, and anxiety all take on values of either 1 or 0 depending on whether the student is male, married, has depression, has axiety or not, respectively."
   ]
  },
  {
   "cell_type": "markdown",
   "metadata": {},
   "source": [
    "In order to check the conditions for linear regression, there are five conditions to check. The first is the linearity condition. The second is the constant variability of residuals condition. The third is the normality of residuals centered around 0 condition. The fourth is the independence of residual condition, and the fifth no multicollinearity condition."
   ]
  },
  {
   "cell_type": "code",
   "execution_count": 236,
   "metadata": {},
   "outputs": [
    {
     "data": {
      "image/png": "[encoded data removed]",
      "text/plain": [
       "<Figure size 432x288 with 1 Axes>"
      ]
     },
     "metadata": {},
     "output_type": "display_data"
    }
   ],
   "source": [
    "sns.regplot(x=results.fittedvalues, y=results.resid, ci=None)\n",
    "plt.title('Residual vs Fitted Value for Linear Regression Model')\n",
    "plt.ylabel('Residual')\n",
    "plt.xlabel('Fitted Value')\n",
    "plt.show()"
   ]
  },
  {
   "cell_type": "markdown",
   "metadata": {},
   "source": [
    "As we move from the left to the right, we check for even distribution of points in the plot above and below the line. On the right hand side, we can see that the points are evenly distributed above and below the line; however, to the left, we can see that the points are not evenly distibuted and are rather shifted more above the line than below. However, there are similiar number of points above and below the line. Overall, the linearity condition is met."
   ]
  },
  {
   "cell_type": "markdown",
   "metadata": {},
   "source": [
    "For constant variability of residuals, we check for a constant spread of points as we move from the left to the right. In this case, if we were to draw a line, one above and one below the line of best fit, we can see that both lines are slanted downwards; therefore, there is not constant variability."
   ]
  },
  {
   "cell_type": "code",
   "execution_count": 237,
   "metadata": {},
   "outputs": [
    {
     "data": {
      "image/png": "[encoded data removed]",
      "text/plain": [
       "<Figure size 432x288 with 1 Axes>"
      ]
     },
     "metadata": {},
     "output_type": "display_data"
    }
   ],
   "source": [
    "plt.hist(results.resid)\n",
    "plt.title('Distribution of Residuals for Linear Regression Model')\n",
    "plt.xlabel('Residuals')\n",
    "plt.show()"
   ]
  },
  {
   "cell_type": "markdown",
   "metadata": {},
   "source": [
    "Because the distribution of residuals is bimodal with a peak at around -3 and a peak around 3, this is clearly not unimodal nor can it be symmetric. Therefore, the assumption that the residuals are normally distributed is not met."
   ]
  },
  {
   "cell_type": "markdown",
   "metadata": {},
   "source": [
    "For the independence of residuals, we have to check that the data is randomly sampled and that the sample size is less than 10 percent of the population size. I am not completely sure which university students the survey was taken from but we can reasonably assume that this is a random sample. We do know that 100 students is much less than 10 percent of all university students. I are not completely sure if the independence holds due to the random sampling component of the condition; however, for the purposes of this analysis, I will assume random sampling so independence holds."
   ]
  },
  {
   "cell_type": "markdown",
   "metadata": {},
   "source": [
    "For the no multicollinearity condition, all of our explanatory variables are categorical; therefore, we do not need to check this condition. In addition, since all of our explanatory variables are categorical, it doesn't make sense to transform one of the variables with natural log."
   ]
  },
  {
   "cell_type": "code",
   "execution_count": 240,
   "metadata": {},
   "outputs": [
    {
     "data": {
      "text/plain": [
       "0.044886764929747414"
      ]
     },
     "execution_count": 240,
     "metadata": {},
     "output_type": "execute_result"
    }
   ],
   "source": [
    "results.rsquared"
   ]
  },
  {
   "cell_type": "markdown",
   "metadata": {},
   "source": [
    "Since the r squared value is about 0.045, 4.5% of the variability in the university student's age is explained by this model, which is relatively low."
   ]
  },
  {
   "cell_type": "code",
   "execution_count": 242,
   "metadata": {},
   "outputs": [
    {
     "data": {
      "text/plain": [
       "0    21.739333\n",
       "dtype: float64"
      ]
     },
     "execution_count": 242,
     "metadata": {},
     "output_type": "execute_result"
    }
   ],
   "source": [
    "results.predict(exog=dict(Gender='Male', Married='Yes', depression='No', anxiety='Yes', panic_attack='No'))"
   ]
  },
  {
   "cell_type": "markdown",
   "metadata": {},
   "source": [
    "The linear regression model predicts that the estimated/predicted age of a married male university student without depression or panic attacks but with anxiety is about 21.74 years of age (or between 21-22 years)."
   ]
  },
  {
   "cell_type": "markdown",
   "metadata": {},
   "source": [
    "We do not have sufficient evident to state that any of the slopes corresponding to the predictor variables to be non-zero because all 95 percent confidence interval (significance level 0.05) all contain 0.00 since they range from a negative value to a positive value. This means that we fail to reject the null hypothesis which states that all of the slopes are equal to zero."
   ]
  },
  {
   "cell_type": "markdown",
   "metadata": {},
   "source": [
    "In conclusion, there appears to be no apparent relationship between between a student's age and their gender, marital status, and whether they have depression, anxiety, or panic attack."
   ]
  },
  {
   "cell_type": "markdown",
   "metadata": {},
   "source": [
    "## 4. Logistic Regression"
   ]
  },
  {
   "cell_type": "code",
   "execution_count": 202,
   "metadata": {},
   "outputs": [
    {
     "data": {
      "text/plain": [
       "No     65\n",
       "Yes    35\n",
       "Name: depression, dtype: int64"
      ]
     },
     "execution_count": 202,
     "metadata": {},
     "output_type": "execute_result"
    }
   ],
   "source": [
    "df['depression'].value_counts()"
   ]
  },
  {
   "cell_type": "code",
   "execution_count": 203,
   "metadata": {},
   "outputs": [
    {
     "data": {
      "text/html": [
       "<div>\n",
       "<style scoped>\n",
       "    .dataframe tbody tr th:only-of-type {\n",
       "        vertical-align: middle;\n",
       "    }\n",
       "\n",
       "    .dataframe tbody tr th {\n",
       "        vertical-align: top;\n",
       "    }\n",
       "\n",
       "    .dataframe thead th {\n",
       "        text-align: right;\n",
       "    }\n",
       "</style>\n",
       "<table border=\"1\" class=\"dataframe\">\n",
       "  <thead>\n",
       "    <tr style=\"text-align: right;\">\n",
       "      <th></th>\n",
       "      <th>Timestamp</th>\n",
       "      <th>Gender</th>\n",
       "      <th>Age</th>\n",
       "      <th>Major</th>\n",
       "      <th>Year</th>\n",
       "      <th>cGPA</th>\n",
       "      <th>Married</th>\n",
       "      <th>depression</th>\n",
       "      <th>anxiety</th>\n",
       "      <th>panic_attack</th>\n",
       "      <th>treatment</th>\n",
       "      <th>Depression</th>\n",
       "    </tr>\n",
       "  </thead>\n",
       "  <tbody>\n",
       "    <tr>\n",
       "      <th>0</th>\n",
       "      <td>8/7/2020 12:02</td>\n",
       "      <td>Female</td>\n",
       "      <td>18.0</td>\n",
       "      <td>Engineering</td>\n",
       "      <td>Year 1</td>\n",
       "      <td>3.00 - 3.49</td>\n",
       "      <td>No</td>\n",
       "      <td>Yes</td>\n",
       "      <td>No</td>\n",
       "      <td>Yes</td>\n",
       "      <td>No</td>\n",
       "      <td>1</td>\n",
       "    </tr>\n",
       "    <tr>\n",
       "      <th>1</th>\n",
       "      <td>8/7/2020 12:04</td>\n",
       "      <td>Male</td>\n",
       "      <td>21.0</td>\n",
       "      <td>Islamic education</td>\n",
       "      <td>Year 2</td>\n",
       "      <td>3.00 - 3.49</td>\n",
       "      <td>No</td>\n",
       "      <td>No</td>\n",
       "      <td>Yes</td>\n",
       "      <td>No</td>\n",
       "      <td>No</td>\n",
       "      <td>0</td>\n",
       "    </tr>\n",
       "    <tr>\n",
       "      <th>2</th>\n",
       "      <td>8/7/2020 12:05</td>\n",
       "      <td>Male</td>\n",
       "      <td>19.0</td>\n",
       "      <td>BIT</td>\n",
       "      <td>Year 1</td>\n",
       "      <td>3.00 - 3.49</td>\n",
       "      <td>No</td>\n",
       "      <td>Yes</td>\n",
       "      <td>Yes</td>\n",
       "      <td>Yes</td>\n",
       "      <td>No</td>\n",
       "      <td>1</td>\n",
       "    </tr>\n",
       "    <tr>\n",
       "      <th>3</th>\n",
       "      <td>8/7/2020 12:06</td>\n",
       "      <td>Female</td>\n",
       "      <td>22.0</td>\n",
       "      <td>Laws</td>\n",
       "      <td>Year 3</td>\n",
       "      <td>3.00 - 3.49</td>\n",
       "      <td>Yes</td>\n",
       "      <td>Yes</td>\n",
       "      <td>No</td>\n",
       "      <td>No</td>\n",
       "      <td>No</td>\n",
       "      <td>1</td>\n",
       "    </tr>\n",
       "    <tr>\n",
       "      <th>4</th>\n",
       "      <td>8/7/2020 12:13</td>\n",
       "      <td>Male</td>\n",
       "      <td>23.0</td>\n",
       "      <td>Mathemathics</td>\n",
       "      <td>Year 4</td>\n",
       "      <td>3.00 - 3.49</td>\n",
       "      <td>No</td>\n",
       "      <td>No</td>\n",
       "      <td>No</td>\n",
       "      <td>No</td>\n",
       "      <td>No</td>\n",
       "      <td>0</td>\n",
       "    </tr>\n",
       "  </tbody>\n",
       "</table>\n",
       "</div>"
      ],
      "text/plain": [
       "        Timestamp  Gender   Age              Major    Year         cGPA  \\\n",
       "0  8/7/2020 12:02  Female  18.0        Engineering  Year 1  3.00 - 3.49   \n",
       "1  8/7/2020 12:04    Male  21.0  Islamic education  Year 2  3.00 - 3.49   \n",
       "2  8/7/2020 12:05    Male  19.0                BIT  Year 1  3.00 - 3.49   \n",
       "3  8/7/2020 12:06  Female  22.0               Laws  Year 3  3.00 - 3.49   \n",
       "4  8/7/2020 12:13    Male  23.0       Mathemathics  Year 4  3.00 - 3.49   \n",
       "\n",
       "  Married depression anxiety panic_attack treatment  Depression  \n",
       "0      No        Yes      No          Yes        No           1  \n",
       "1      No         No     Yes           No        No           0  \n",
       "2      No        Yes     Yes          Yes        No           1  \n",
       "3     Yes        Yes      No           No        No           1  \n",
       "4      No         No      No           No        No           0  "
      ]
     },
     "execution_count": 203,
     "metadata": {},
     "output_type": "execute_result"
    }
   ],
   "source": [
    "# Turn the two-level categorical response variable into numerical variable\n",
    "df['Depression']=df['depression'].map({'No':0,'Yes':1})\n",
    "df.head()"
   ]
  },
  {
   "cell_type": "code",
   "execution_count": 204,
   "metadata": {},
   "outputs": [],
   "source": [
    "# Split data into training and testing data sets\n",
    "from sklearn.model_selection import train_test_split\n",
    "\n",
    "df_train, df_test = train_test_split(df, \n",
    "                                   test_size=0.20, \n",
    "                                   random_state=123)"
   ]
  },
  {
   "cell_type": "code",
   "execution_count": 205,
   "metadata": {},
   "outputs": [
    {
     "data": {
      "text/plain": [
       "0.8"
      ]
     },
     "execution_count": 205,
     "metadata": {},
     "output_type": "execute_result"
    }
   ],
   "source": [
    "df_train.shape[0]/df.shape[0]"
   ]
  },
  {
   "cell_type": "markdown",
   "metadata": {},
   "source": [
    "Logistic Regression Research Question: Is there a linear relationship between whether or not a student has depression and their gender, age, year in school, and whether they have anxiety in our sample? How does this give us insight into the population sample?"
   ]
  },
  {
   "cell_type": "code",
   "execution_count": 206,
   "metadata": {},
   "outputs": [
    {
     "name": "stdout",
     "output_type": "stream",
     "text": [
      "Optimization terminated successfully.\n",
      "         Current function value: 0.575106\n",
      "         Iterations 6\n",
      "AIC of Full Model 106.01689002700664\n"
     ]
    }
   ],
   "source": [
    "# Now use the df_train to fit the logistic model with the four predictor variables\n",
    "mod4v = smf.logit(formula='Depression ~ Gender+Age+Year+anxiety', data=df_train).fit()\n",
    "print('AIC of Full Model',mod4v.aic)"
   ]
  },
  {
   "cell_type": "code",
   "execution_count": 207,
   "metadata": {},
   "outputs": [
    {
     "name": "stdout",
     "output_type": "stream",
     "text": [
      "Optimization terminated successfully.\n",
      "         Current function value: 0.601386\n",
      "         Iterations 6\n",
      "AIC of Test Model that Deletes ANXIETY from the Current Model 108.22169753112864\n"
     ]
    }
   ],
   "source": [
    "mod3v1 = smf.logit(formula='Depression ~ Gender+Age+Year', data=df_train).fit()\n",
    "print('AIC of Test Model that Deletes ANXIETY from the Current Model',mod3v1.aic)"
   ]
  },
  {
   "cell_type": "code",
   "execution_count": 208,
   "metadata": {},
   "outputs": [
    {
     "name": "stdout",
     "output_type": "stream",
     "text": [
      "Optimization terminated successfully.\n",
      "         Current function value: 0.584375\n",
      "         Iterations 6\n",
      "AIC of Test Model that Deletes AGE from the Current Model 105.50003180822256\n"
     ]
    }
   ],
   "source": [
    "mod3v2 = smf.logit(formula='Depression ~ Gender+Year+anxiety', data=df_train).fit()\n",
    "print('AIC of Test Model that Deletes AGE from the Current Model',mod3v2.aic)"
   ]
  },
  {
   "cell_type": "code",
   "execution_count": 209,
   "metadata": {},
   "outputs": [
    {
     "name": "stdout",
     "output_type": "stream",
     "text": [
      "Optimization terminated successfully.\n",
      "         Current function value: 0.600822\n",
      "         Iterations 5\n",
      "AIC of Test Model that Deletes YEAR from the Current Model 104.13144107916854\n"
     ]
    }
   ],
   "source": [
    "mod3v3 = smf.logit(formula='Depression ~ Gender+Age+anxiety', data=df_train).fit()\n",
    "print('AIC of Test Model that Deletes YEAR from the Current Model',mod3v3.aic)"
   ]
  },
  {
   "cell_type": "code",
   "execution_count": 210,
   "metadata": {},
   "outputs": [
    {
     "name": "stdout",
     "output_type": "stream",
     "text": [
      "Optimization terminated successfully.\n",
      "         Current function value: 0.596284\n",
      "         Iterations 6\n",
      "AIC of Test Model that Deletes GENDER from the Current Model 107.40549199510049\n"
     ]
    }
   ],
   "source": [
    "mod3v4 = smf.logit(formula='Depression ~ Year+Age+anxiety', data=df_train).fit()\n",
    "print('AIC of Test Model that Deletes GENDER from the Current Model',mod3v4.aic)"
   ]
  },
  {
   "cell_type": "markdown",
   "metadata": {},
   "source": [
    "Because there was at least one \"test model\" that has a AIC score (104.13) that is lower than the AIC score of the full model (106.02), we continue with a new iteration.\n",
    "\n",
    "The \"test model\" that had the lowest BIC score was the one that deleted the \"sample\" explanatory variable from the \"current model\". So we set the new \"current model\" to be the test model that does not include \"sample\" and go through another iteration. mod3v3 is now the current model."
   ]
  },
  {
   "cell_type": "code",
   "execution_count": 214,
   "metadata": {},
   "outputs": [
    {
     "name": "stdout",
     "output_type": "stream",
     "text": [
      "Optimization terminated successfully.\n",
      "         Current function value: 0.627798\n",
      "         Iterations 5\n",
      "AIC of Test Model that Deletes ANXIETY from the Current Model 104.13144107916854\n"
     ]
    }
   ],
   "source": [
    "mod2v1 = smf.logit(formula='Depression ~ Gender+Age', data=df_train).fit()\n",
    "print('AIC of Test Model that Deletes ANXIETY from the Current Model',mod3v3.aic)"
   ]
  },
  {
   "cell_type": "code",
   "execution_count": 215,
   "metadata": {},
   "outputs": [
    {
     "name": "stdout",
     "output_type": "stream",
     "text": [
      "Optimization terminated successfully.\n",
      "         Current function value: 0.609691\n",
      "         Iterations 5\n",
      "AIC of Test Model that Deletes AGE from the Current Model 104.13144107916854\n"
     ]
    }
   ],
   "source": [
    "smf.logit(formula='Depression ~ Gender+anxiety', data=df_train).fit()\n",
    "print('AIC of Test Model that Deletes AGE from the Current Model',mod3v3.aic)"
   ]
  },
  {
   "cell_type": "code",
   "execution_count": 216,
   "metadata": {},
   "outputs": [
    {
     "name": "stdout",
     "output_type": "stream",
     "text": [
      "Optimization terminated successfully.\n",
      "         Current function value: 0.613327\n",
      "         Iterations 5\n",
      "AIC of Test Model that Deletes GENDER from the Current Model 104.13144107916854\n"
     ]
    }
   ],
   "source": [
    "smf.logit(formula='Depression ~ Age+anxiety', data=df_train).fit()\n",
    "print('AIC of Test Model that Deletes GENDER from the Current Model',mod3v3.aic)"
   ]
  },
  {
   "cell_type": "markdown",
   "metadata": {},
   "source": [
    "Note that the AIC of the new iteration of test models does not change; therefore, we stop the algorithm. The mod3v3 that represents the model with \"Year\" deleted from the full model. What this means is that the final model with just gender, age, and anxiety as explanatory variables is more parsimonious than the model with gender, age, anxiety, and year because this final model had a lower BIC score.\n",
    "\n",
    "**However, I do not know for sure that the model with sex, age, and party has the LOWEST BIC score out of all possible $2^4=16$ possible models combinations that use (or do not use) the four possible explanatory variables that we originally considered!**"
   ]
  },
  {
   "cell_type": "code",
   "execution_count": 217,
   "metadata": {
    "scrolled": true
   },
   "outputs": [
    {
     "data": {
      "text/html": [
       "<table class=\"simpletable\">\n",
       "<caption>Logit Regression Results</caption>\n",
       "<tr>\n",
       "  <th>Dep. Variable:</th>      <td>Depression</td>    <th>  No. Observations:  </th>  <td>    80</td> \n",
       "</tr>\n",
       "<tr>\n",
       "  <th>Model:</th>                 <td>Logit</td>      <th>  Df Residuals:      </th>  <td>    76</td> \n",
       "</tr>\n",
       "<tr>\n",
       "  <th>Method:</th>                 <td>MLE</td>       <th>  Df Model:          </th>  <td>     3</td> \n",
       "</tr>\n",
       "<tr>\n",
       "  <th>Date:</th>            <td>Sun, 30 Apr 2023</td> <th>  Pseudo R-squ.:     </th>  <td>0.07201</td>\n",
       "</tr>\n",
       "<tr>\n",
       "  <th>Time:</th>                <td>12:07:35</td>     <th>  Log-Likelihood:    </th> <td> -48.066</td>\n",
       "</tr>\n",
       "<tr>\n",
       "  <th>converged:</th>             <td>True</td>       <th>  LL-Null:           </th> <td> -51.796</td>\n",
       "</tr>\n",
       "<tr>\n",
       "  <th>Covariance Type:</th>     <td>nonrobust</td>    <th>  LLR p-value:       </th>  <td>0.05859</td>\n",
       "</tr>\n",
       "</table>\n",
       "<table class=\"simpletable\">\n",
       "<tr>\n",
       "         <td></td>           <th>coef</th>     <th>std err</th>      <th>z</th>      <th>P>|z|</th>  <th>[0.025</th>    <th>0.975]</th>  \n",
       "</tr>\n",
       "<tr>\n",
       "  <th>Intercept</th>      <td>    1.5977</td> <td>    2.077</td> <td>    0.769</td> <td> 0.442</td> <td>   -2.472</td> <td>    5.668</td>\n",
       "</tr>\n",
       "<tr>\n",
       "  <th>Gender[T.Male]</th> <td>   -0.7999</td> <td>    0.584</td> <td>   -1.369</td> <td> 0.171</td> <td>   -1.945</td> <td>    0.345</td>\n",
       "</tr>\n",
       "<tr>\n",
       "  <th>anxiety[T.Yes]</th> <td>    1.0521</td> <td>    0.512</td> <td>    2.055</td> <td> 0.040</td> <td>    0.049</td> <td>    2.056</td>\n",
       "</tr>\n",
       "<tr>\n",
       "  <th>Age</th>            <td>   -0.1173</td> <td>    0.100</td> <td>   -1.178</td> <td> 0.239</td> <td>   -0.312</td> <td>    0.078</td>\n",
       "</tr>\n",
       "</table>"
      ],
      "text/plain": [
       "<class 'statsmodels.iolib.summary.Summary'>\n",
       "\"\"\"\n",
       "                           Logit Regression Results                           \n",
       "==============================================================================\n",
       "Dep. Variable:             Depression   No. Observations:                   80\n",
       "Model:                          Logit   Df Residuals:                       76\n",
       "Method:                           MLE   Df Model:                            3\n",
       "Date:                Sun, 30 Apr 2023   Pseudo R-squ.:                 0.07201\n",
       "Time:                        12:07:35   Log-Likelihood:                -48.066\n",
       "converged:                       True   LL-Null:                       -51.796\n",
       "Covariance Type:            nonrobust   LLR p-value:                   0.05859\n",
       "==================================================================================\n",
       "                     coef    std err          z      P>|z|      [0.025      0.975]\n",
       "----------------------------------------------------------------------------------\n",
       "Intercept          1.5977      2.077      0.769      0.442      -2.472       5.668\n",
       "Gender[T.Male]    -0.7999      0.584     -1.369      0.171      -1.945       0.345\n",
       "anxiety[T.Yes]     1.0521      0.512      2.055      0.040       0.049       2.056\n",
       "Age               -0.1173      0.100     -1.178      0.239      -0.312       0.078\n",
       "==================================================================================\n",
       "\"\"\""
      ]
     },
     "execution_count": 217,
     "metadata": {},
     "output_type": "execute_result"
    }
   ],
   "source": [
    "mod3v3.summary()"
   ]
  },
  {
   "cell_type": "markdown",
   "metadata": {},
   "source": [
    "I used the train dataset with n=80 to fit the model. There is a linear relationship between the log odds of a university student having depression and their age, gender, whether they have anxiety or not in college. Let y_hat represent the log odds of a unversity student having depression. The logistic regression model states that:\n",
    "\n",
    "y_hat = (1.5977)+(-0.7999)(Male)+(1.0521)(Anxiety)+(-0.1173)(Age)"
   ]
  },
  {
   "cell_type": "markdown",
   "metadata": {},
   "source": [
    "There is sufficient evidence that the slope for whether or not the university student has anxiety is not equal to zero. This is because the 95 percent confidence interval does not contain 0.00. (Check how to do this)"
   ]
  },
  {
   "cell_type": "code",
   "execution_count": 218,
   "metadata": {},
   "outputs": [],
   "source": [
    "from sklearn.metrics import confusion_matrix, roc_curve, roc_auc_score\n",
    "\n",
    "def plot_roc(fpr, tpr, auc, lw=2):\n",
    "    plt.plot(fpr, tpr, color='darkorange', lw=lw,\n",
    "             label='ROC curve (area = '+str(round(auc,3))+')')\n",
    "    plt.plot([0, 1], [0, 1], color='navy', lw=lw, linestyle='--')\n",
    "    plt.xlabel('False Positive Rate')\n",
    "    plt.ylabel('True Positive Rate')\n",
    "    plt.title('ROC Curve')\n",
    "    plt.legend(loc=\"lower right\")\n",
    "    plt.show()"
   ]
  },
  {
   "cell_type": "code",
   "execution_count": 219,
   "metadata": {
    "scrolled": false
   },
   "outputs": [
    {
     "name": "stderr",
     "output_type": "stream",
     "text": [
      "<ipython-input-219-19e84cc62b72>:1: SettingWithCopyWarning: \n",
      "A value is trying to be set on a copy of a slice from a DataFrame.\n",
      "Try using .loc[row_indexer,col_indexer] = value instead\n",
      "\n",
      "See the caveats in the documentation: https://pandas.pydata.org/pandas-docs/stable/user_guide/indexing.html#returning-a-view-versus-a-copy\n",
      "  df_test['phat_test'] = mod3v3.predict(exog=df_test)\n"
     ]
    },
    {
     "data": {
      "text/html": [
       "<div>\n",
       "<style scoped>\n",
       "    .dataframe tbody tr th:only-of-type {\n",
       "        vertical-align: middle;\n",
       "    }\n",
       "\n",
       "    .dataframe tbody tr th {\n",
       "        vertical-align: top;\n",
       "    }\n",
       "\n",
       "    .dataframe thead th {\n",
       "        text-align: right;\n",
       "    }\n",
       "</style>\n",
       "<table border=\"1\" class=\"dataframe\">\n",
       "  <thead>\n",
       "    <tr style=\"text-align: right;\">\n",
       "      <th></th>\n",
       "      <th>Timestamp</th>\n",
       "      <th>Gender</th>\n",
       "      <th>Age</th>\n",
       "      <th>Major</th>\n",
       "      <th>Year</th>\n",
       "      <th>cGPA</th>\n",
       "      <th>Married</th>\n",
       "      <th>depression</th>\n",
       "      <th>anxiety</th>\n",
       "      <th>panic_attack</th>\n",
       "      <th>treatment</th>\n",
       "      <th>Depression</th>\n",
       "      <th>phat_test</th>\n",
       "    </tr>\n",
       "  </thead>\n",
       "  <tbody>\n",
       "    <tr>\n",
       "      <th>8</th>\n",
       "      <td>8/7/2020 12:35</td>\n",
       "      <td>Female</td>\n",
       "      <td>19.0</td>\n",
       "      <td>Human Resources</td>\n",
       "      <td>Year 2</td>\n",
       "      <td>2.50 - 2.99</td>\n",
       "      <td>No</td>\n",
       "      <td>No</td>\n",
       "      <td>No</td>\n",
       "      <td>No</td>\n",
       "      <td>No</td>\n",
       "      <td>0</td>\n",
       "      <td>0.347336</td>\n",
       "    </tr>\n",
       "    <tr>\n",
       "      <th>71</th>\n",
       "      <td>8/7/2020 21:21</td>\n",
       "      <td>Female</td>\n",
       "      <td>18.0</td>\n",
       "      <td>Laws</td>\n",
       "      <td>Year 3</td>\n",
       "      <td>3.50 - 4.00</td>\n",
       "      <td>No</td>\n",
       "      <td>No</td>\n",
       "      <td>No</td>\n",
       "      <td>Yes</td>\n",
       "      <td>No</td>\n",
       "      <td>0</td>\n",
       "      <td>0.374378</td>\n",
       "    </tr>\n",
       "    <tr>\n",
       "      <th>83</th>\n",
       "      <td>13/07/2020 10:12:28</td>\n",
       "      <td>Female</td>\n",
       "      <td>19.0</td>\n",
       "      <td>Pendidikan Islam</td>\n",
       "      <td>Year 2</td>\n",
       "      <td>3.00 - 3.49</td>\n",
       "      <td>No</td>\n",
       "      <td>No</td>\n",
       "      <td>No</td>\n",
       "      <td>No</td>\n",
       "      <td>No</td>\n",
       "      <td>0</td>\n",
       "      <td>0.347336</td>\n",
       "    </tr>\n",
       "    <tr>\n",
       "      <th>28</th>\n",
       "      <td>8/7/2020 13:58</td>\n",
       "      <td>Female</td>\n",
       "      <td>24.0</td>\n",
       "      <td>BIT</td>\n",
       "      <td>Year 3</td>\n",
       "      <td>3.50 - 4.00</td>\n",
       "      <td>Yes</td>\n",
       "      <td>Yes</td>\n",
       "      <td>Yes</td>\n",
       "      <td>Yes</td>\n",
       "      <td>Yes</td>\n",
       "      <td>1</td>\n",
       "      <td>0.458821</td>\n",
       "    </tr>\n",
       "    <tr>\n",
       "      <th>64</th>\n",
       "      <td>8/7/2020 17:46</td>\n",
       "      <td>Female</td>\n",
       "      <td>24.0</td>\n",
       "      <td>Engine</td>\n",
       "      <td>Year 1</td>\n",
       "      <td>3.50 - 4.00</td>\n",
       "      <td>No</td>\n",
       "      <td>No</td>\n",
       "      <td>No</td>\n",
       "      <td>No</td>\n",
       "      <td>No</td>\n",
       "      <td>0</td>\n",
       "      <td>0.228428</td>\n",
       "    </tr>\n",
       "  </tbody>\n",
       "</table>\n",
       "</div>"
      ],
      "text/plain": [
       "              Timestamp  Gender   Age              Major    Year         cGPA  \\\n",
       "8        8/7/2020 12:35  Female  19.0    Human Resources  Year 2  2.50 - 2.99   \n",
       "71       8/7/2020 21:21  Female  18.0               Laws  Year 3  3.50 - 4.00   \n",
       "83  13/07/2020 10:12:28  Female  19.0  Pendidikan Islam   Year 2  3.00 - 3.49   \n",
       "28       8/7/2020 13:58  Female  24.0                BIT  Year 3  3.50 - 4.00   \n",
       "64       8/7/2020 17:46  Female  24.0             Engine  Year 1  3.50 - 4.00   \n",
       "\n",
       "   Married depression anxiety panic_attack treatment  Depression  phat_test  \n",
       "8       No         No      No           No        No           0   0.347336  \n",
       "71      No         No      No          Yes        No           0   0.374378  \n",
       "83      No         No      No           No        No           0   0.347336  \n",
       "28     Yes        Yes     Yes          Yes       Yes           1   0.458821  \n",
       "64      No         No      No           No        No           0   0.228428  "
      ]
     },
     "execution_count": 219,
     "metadata": {},
     "output_type": "execute_result"
    }
   ],
   "source": [
    "df_test['phat_test'] = mod3v3.predict(exog=df_test)\n",
    "df_test.head()"
   ]
  },
  {
   "cell_type": "code",
   "execution_count": 220,
   "metadata": {},
   "outputs": [
    {
     "name": "stdout",
     "output_type": "stream",
     "text": [
      "0.6758241758241758\n"
     ]
    },
    {
     "data": {
      "image/png": "[encoded data removed]",
      "text/plain": [
       "<Figure size 432x288 with 1 Axes>"
      ]
     },
     "metadata": {},
     "output_type": "display_data"
    }
   ],
   "source": [
    "fpr, tpr, score = roc_curve(y_true=df_test['Depression'], y_score=df_test['phat_test'])\n",
    "auc = roc_auc_score(y_true=df_test['Depression'], y_score=df_test['phat_test'])\n",
    "print(auc)\n",
    "plot_roc(fpr, tpr, auc)"
   ]
  },
  {
   "cell_type": "code",
   "execution_count": 221,
   "metadata": {},
   "outputs": [],
   "source": [
    "from sklearn.metrics import confusion_matrix\n",
    "\n",
    "def tpr_fpr_thresh(y, pred_prob, thresh):\n",
    "    yhat = 1*(pred_prob >= thresh)\n",
    "    tn, fp, fn, tp = confusion_matrix(y_true=y, y_pred=yhat).ravel()\n",
    "    tpr = tp / (fn + tp)\n",
    "    fpr = fp / (fp + tn)\n",
    "    return pd.DataFrame({'threshold':[thresh],\n",
    "                         'tpr':[tpr], \n",
    "                         'fpr':[fpr]})"
   ]
  },
  {
   "cell_type": "code",
   "execution_count": 222,
   "metadata": {},
   "outputs": [
    {
     "name": "stdout",
     "output_type": "stream",
     "text": [
      "   threshold  tpr  fpr\n",
      "0        0.0  1.0  1.0\n",
      "   threshold  tpr  fpr\n",
      "0       0.01  1.0  1.0\n",
      "   threshold  tpr  fpr\n",
      "0       0.02  1.0  1.0\n",
      "   threshold  tpr  fpr\n",
      "0       0.03  1.0  1.0\n",
      "   threshold  tpr  fpr\n",
      "0       0.04  1.0  1.0\n",
      "   threshold  tpr  fpr\n",
      "0       0.05  1.0  1.0\n",
      "   threshold  tpr  fpr\n",
      "0       0.06  1.0  1.0\n",
      "   threshold  tpr  fpr\n",
      "0       0.07  1.0  1.0\n",
      "   threshold  tpr  fpr\n",
      "0       0.08  1.0  1.0\n",
      "   threshold  tpr  fpr\n",
      "0       0.09  1.0  1.0\n",
      "   threshold  tpr  fpr\n",
      "0        0.1  1.0  1.0\n",
      "   threshold  tpr  fpr\n",
      "0       0.11  1.0  1.0\n",
      "   threshold  tpr  fpr\n",
      "0       0.12  1.0  1.0\n",
      "   threshold  tpr  fpr\n",
      "0       0.13  1.0  1.0\n",
      "   threshold  tpr       fpr\n",
      "0       0.14  1.0  0.923077\n",
      "   threshold  tpr       fpr\n",
      "0       0.15  1.0  0.923077\n",
      "   threshold  tpr       fpr\n",
      "0       0.16  1.0  0.923077\n",
      "   threshold  tpr       fpr\n",
      "0       0.17  1.0  0.923077\n",
      "   threshold  tpr       fpr\n",
      "0       0.18  1.0  0.923077\n",
      "   threshold  tpr       fpr\n",
      "0       0.19  1.0  0.923077\n",
      "   threshold  tpr       fpr\n",
      "0        0.2  1.0  0.846154\n",
      "   threshold  tpr       fpr\n",
      "0       0.21  1.0  0.846154\n",
      "   threshold  tpr       fpr\n",
      "0       0.22  1.0  0.846154\n",
      "   threshold  tpr       fpr\n",
      "0       0.23  1.0  0.692308\n",
      "   threshold  tpr       fpr\n",
      "0       0.24  1.0  0.692308\n",
      "   threshold       tpr       fpr\n",
      "0       0.25  0.857143  0.692308\n",
      "   threshold       tpr       fpr\n",
      "0       0.26  0.857143  0.692308\n",
      "   threshold       tpr       fpr\n",
      "0       0.27  0.857143  0.692308\n",
      "   threshold       tpr       fpr\n",
      "0       0.28  0.857143  0.692308\n",
      "   threshold       tpr       fpr\n",
      "0       0.29  0.857143  0.692308\n",
      "   threshold       tpr       fpr\n",
      "0        0.3  0.857143  0.692308\n",
      "   threshold       tpr       fpr\n",
      "0       0.31  0.857143  0.692308\n",
      "   threshold       tpr       fpr\n",
      "0       0.32  0.857143  0.692308\n",
      "   threshold       tpr       fpr\n",
      "0       0.33  0.714286  0.692308\n",
      "   threshold       tpr       fpr\n",
      "0       0.34  0.714286  0.692308\n",
      "   threshold       tpr       fpr\n",
      "0       0.35  0.714286  0.384615\n",
      "   threshold       tpr       fpr\n",
      "0       0.36  0.714286  0.384615\n",
      "   threshold       tpr       fpr\n",
      "0       0.37  0.714286  0.384615\n",
      "   threshold       tpr       fpr\n",
      "0       0.38  0.571429  0.153846\n",
      "   threshold       tpr       fpr\n",
      "0       0.39  0.571429  0.153846\n",
      "   threshold       tpr       fpr\n",
      "0        0.4  0.571429  0.153846\n",
      "   threshold       tpr       fpr\n",
      "0       0.41  0.571429  0.153846\n",
      "   threshold       tpr       fpr\n",
      "0       0.42  0.571429  0.153846\n",
      "   threshold       tpr       fpr\n",
      "0       0.43  0.571429  0.153846\n",
      "   threshold       tpr       fpr\n",
      "0       0.44  0.571429  0.153846\n",
      "   threshold       tpr       fpr\n",
      "0       0.45  0.571429  0.153846\n",
      "   threshold       tpr       fpr\n",
      "0       0.46  0.428571  0.153846\n",
      "   threshold       tpr       fpr\n",
      "0       0.47  0.428571  0.153846\n",
      "   threshold       tpr       fpr\n",
      "0       0.48  0.428571  0.153846\n",
      "   threshold       tpr       fpr\n",
      "0       0.49  0.285714  0.153846\n",
      "   threshold       tpr       fpr\n",
      "0        0.5  0.285714  0.153846\n",
      "   threshold       tpr       fpr\n",
      "0       0.51  0.285714  0.153846\n",
      "   threshold       tpr       fpr\n",
      "0       0.52  0.285714  0.153846\n",
      "   threshold       tpr       fpr\n",
      "0       0.53  0.285714  0.153846\n",
      "   threshold       tpr       fpr\n",
      "0       0.54  0.285714  0.153846\n",
      "   threshold       tpr       fpr\n",
      "0       0.55  0.285714  0.153846\n",
      "   threshold       tpr       fpr\n",
      "0       0.56  0.285714  0.153846\n",
      "   threshold       tpr       fpr\n",
      "0       0.57  0.285714  0.153846\n",
      "   threshold       tpr       fpr\n",
      "0       0.58  0.142857  0.153846\n",
      "   threshold       tpr       fpr\n",
      "0       0.59  0.142857  0.153846\n",
      "   threshold       tpr       fpr\n",
      "0        0.6  0.142857  0.153846\n",
      "   threshold  tpr       fpr\n",
      "0       0.61  0.0  0.153846\n",
      "   threshold  tpr       fpr\n",
      "0       0.62  0.0  0.153846\n",
      "   threshold  tpr       fpr\n",
      "0       0.63  0.0  0.153846\n",
      "   threshold  tpr  fpr\n",
      "0       0.64  0.0  0.0\n",
      "   threshold  tpr  fpr\n",
      "0       0.65  0.0  0.0\n",
      "   threshold  tpr  fpr\n",
      "0       0.66  0.0  0.0\n",
      "   threshold  tpr  fpr\n",
      "0       0.67  0.0  0.0\n",
      "   threshold  tpr  fpr\n",
      "0       0.68  0.0  0.0\n",
      "   threshold  tpr  fpr\n",
      "0       0.69  0.0  0.0\n",
      "   threshold  tpr  fpr\n",
      "0        0.7  0.0  0.0\n",
      "   threshold  tpr  fpr\n",
      "0       0.71  0.0  0.0\n",
      "   threshold  tpr  fpr\n",
      "0       0.72  0.0  0.0\n",
      "   threshold  tpr  fpr\n",
      "0       0.73  0.0  0.0\n",
      "   threshold  tpr  fpr\n",
      "0       0.74  0.0  0.0\n",
      "   threshold  tpr  fpr\n",
      "0       0.75  0.0  0.0\n",
      "   threshold  tpr  fpr\n",
      "0       0.76  0.0  0.0\n",
      "   threshold  tpr  fpr\n",
      "0       0.77  0.0  0.0\n",
      "   threshold  tpr  fpr\n",
      "0       0.78  0.0  0.0\n",
      "   threshold  tpr  fpr\n",
      "0       0.79  0.0  0.0\n",
      "   threshold  tpr  fpr\n",
      "0        0.8  0.0  0.0\n",
      "   threshold  tpr  fpr\n",
      "0       0.81  0.0  0.0\n",
      "   threshold  tpr  fpr\n",
      "0       0.82  0.0  0.0\n",
      "   threshold  tpr  fpr\n",
      "0       0.83  0.0  0.0\n",
      "   threshold  tpr  fpr\n",
      "0       0.84  0.0  0.0\n",
      "   threshold  tpr  fpr\n",
      "0       0.85  0.0  0.0\n",
      "   threshold  tpr  fpr\n",
      "0       0.86  0.0  0.0\n",
      "   threshold  tpr  fpr\n",
      "0       0.87  0.0  0.0\n",
      "   threshold  tpr  fpr\n",
      "0       0.88  0.0  0.0\n",
      "   threshold  tpr  fpr\n",
      "0       0.89  0.0  0.0\n",
      "   threshold  tpr  fpr\n",
      "0        0.9  0.0  0.0\n",
      "   threshold  tpr  fpr\n",
      "0       0.91  0.0  0.0\n",
      "   threshold  tpr  fpr\n",
      "0       0.92  0.0  0.0\n",
      "   threshold  tpr  fpr\n",
      "0       0.93  0.0  0.0\n",
      "   threshold  tpr  fpr\n",
      "0       0.94  0.0  0.0\n",
      "   threshold  tpr  fpr\n",
      "0       0.95  0.0  0.0\n",
      "   threshold  tpr  fpr\n",
      "0       0.96  0.0  0.0\n",
      "   threshold  tpr  fpr\n",
      "0       0.97  0.0  0.0\n",
      "   threshold  tpr  fpr\n",
      "0       0.98  0.0  0.0\n",
      "   threshold  tpr  fpr\n",
      "0       0.99  0.0  0.0\n"
     ]
    }
   ],
   "source": [
    "for thresh in np.arange(0,1,.01):\n",
    "    print(tpr_fpr_thresh(df_test['Depression'], df_test['phat_test'], thresh))"
   ]
  },
  {
   "cell_type": "markdown",
   "metadata": {},
   "source": [
    "We want a high tpr (true positive rate) close to 1 and a low fpr (false positive rate) close to zero. From the graph, this is around where tpr is close to 0.7 and fpr is close to 0.4. This corresponds to a threshold of around 0.35 where tpr is 0.714286 and fpr is 0.384615. I chose this given my research goals of identifying students at risk of depression. We don't want our tpr as high as we can without having an extreme fpr so I chose the point where tpr is close to 0.7 and fpr is close to 0.4 rather than the point where tpr is close to 0.57 and the false positive rate is close to 0.15 because it is more important to correctly identity depressed students than to falsely identify a student as depressed."
   ]
  },
  {
   "cell_type": "code",
   "execution_count": 223,
   "metadata": {},
   "outputs": [
    {
     "name": "stderr",
     "output_type": "stream",
     "text": [
      "<ipython-input-223-abef15353955>:1: SettingWithCopyWarning: \n",
      "A value is trying to be set on a copy of a slice from a DataFrame.\n",
      "Try using .loc[row_indexer,col_indexer] = value instead\n",
      "\n",
      "See the caveats in the documentation: https://pandas.pydata.org/pandas-docs/stable/user_guide/indexing.html#returning-a-view-versus-a-copy\n",
      "  df_test['yhat']=1*(df_test['phat_test']>0.35)\n"
     ]
    },
    {
     "data": {
      "text/html": [
       "<div>\n",
       "<style scoped>\n",
       "    .dataframe tbody tr th:only-of-type {\n",
       "        vertical-align: middle;\n",
       "    }\n",
       "\n",
       "    .dataframe tbody tr th {\n",
       "        vertical-align: top;\n",
       "    }\n",
       "\n",
       "    .dataframe thead th {\n",
       "        text-align: right;\n",
       "    }\n",
       "</style>\n",
       "<table border=\"1\" class=\"dataframe\">\n",
       "  <thead>\n",
       "    <tr style=\"text-align: right;\">\n",
       "      <th></th>\n",
       "      <th>Timestamp</th>\n",
       "      <th>Gender</th>\n",
       "      <th>Age</th>\n",
       "      <th>Major</th>\n",
       "      <th>Year</th>\n",
       "      <th>cGPA</th>\n",
       "      <th>Married</th>\n",
       "      <th>depression</th>\n",
       "      <th>anxiety</th>\n",
       "      <th>panic_attack</th>\n",
       "      <th>treatment</th>\n",
       "      <th>Depression</th>\n",
       "      <th>phat_test</th>\n",
       "      <th>yhat</th>\n",
       "    </tr>\n",
       "  </thead>\n",
       "  <tbody>\n",
       "    <tr>\n",
       "      <th>8</th>\n",
       "      <td>8/7/2020 12:35</td>\n",
       "      <td>Female</td>\n",
       "      <td>19.0</td>\n",
       "      <td>Human Resources</td>\n",
       "      <td>Year 2</td>\n",
       "      <td>2.50 - 2.99</td>\n",
       "      <td>No</td>\n",
       "      <td>No</td>\n",
       "      <td>No</td>\n",
       "      <td>No</td>\n",
       "      <td>No</td>\n",
       "      <td>0</td>\n",
       "      <td>0.347336</td>\n",
       "      <td>0</td>\n",
       "    </tr>\n",
       "    <tr>\n",
       "      <th>71</th>\n",
       "      <td>8/7/2020 21:21</td>\n",
       "      <td>Female</td>\n",
       "      <td>18.0</td>\n",
       "      <td>Laws</td>\n",
       "      <td>Year 3</td>\n",
       "      <td>3.50 - 4.00</td>\n",
       "      <td>No</td>\n",
       "      <td>No</td>\n",
       "      <td>No</td>\n",
       "      <td>Yes</td>\n",
       "      <td>No</td>\n",
       "      <td>0</td>\n",
       "      <td>0.374378</td>\n",
       "      <td>1</td>\n",
       "    </tr>\n",
       "    <tr>\n",
       "      <th>83</th>\n",
       "      <td>13/07/2020 10:12:28</td>\n",
       "      <td>Female</td>\n",
       "      <td>19.0</td>\n",
       "      <td>Pendidikan Islam</td>\n",
       "      <td>Year 2</td>\n",
       "      <td>3.00 - 3.49</td>\n",
       "      <td>No</td>\n",
       "      <td>No</td>\n",
       "      <td>No</td>\n",
       "      <td>No</td>\n",
       "      <td>No</td>\n",
       "      <td>0</td>\n",
       "      <td>0.347336</td>\n",
       "      <td>0</td>\n",
       "    </tr>\n",
       "    <tr>\n",
       "      <th>28</th>\n",
       "      <td>8/7/2020 13:58</td>\n",
       "      <td>Female</td>\n",
       "      <td>24.0</td>\n",
       "      <td>BIT</td>\n",
       "      <td>Year 3</td>\n",
       "      <td>3.50 - 4.00</td>\n",
       "      <td>Yes</td>\n",
       "      <td>Yes</td>\n",
       "      <td>Yes</td>\n",
       "      <td>Yes</td>\n",
       "      <td>Yes</td>\n",
       "      <td>1</td>\n",
       "      <td>0.458821</td>\n",
       "      <td>1</td>\n",
       "    </tr>\n",
       "    <tr>\n",
       "      <th>64</th>\n",
       "      <td>8/7/2020 17:46</td>\n",
       "      <td>Female</td>\n",
       "      <td>24.0</td>\n",
       "      <td>Engine</td>\n",
       "      <td>Year 1</td>\n",
       "      <td>3.50 - 4.00</td>\n",
       "      <td>No</td>\n",
       "      <td>No</td>\n",
       "      <td>No</td>\n",
       "      <td>No</td>\n",
       "      <td>No</td>\n",
       "      <td>0</td>\n",
       "      <td>0.228428</td>\n",
       "      <td>0</td>\n",
       "    </tr>\n",
       "  </tbody>\n",
       "</table>\n",
       "</div>"
      ],
      "text/plain": [
       "              Timestamp  Gender   Age              Major    Year         cGPA  \\\n",
       "8        8/7/2020 12:35  Female  19.0    Human Resources  Year 2  2.50 - 2.99   \n",
       "71       8/7/2020 21:21  Female  18.0               Laws  Year 3  3.50 - 4.00   \n",
       "83  13/07/2020 10:12:28  Female  19.0  Pendidikan Islam   Year 2  3.00 - 3.49   \n",
       "28       8/7/2020 13:58  Female  24.0                BIT  Year 3  3.50 - 4.00   \n",
       "64       8/7/2020 17:46  Female  24.0             Engine  Year 1  3.50 - 4.00   \n",
       "\n",
       "   Married depression anxiety panic_attack treatment  Depression  phat_test  \\\n",
       "8       No         No      No           No        No           0   0.347336   \n",
       "71      No         No      No          Yes        No           0   0.374378   \n",
       "83      No         No      No           No        No           0   0.347336   \n",
       "28     Yes        Yes     Yes          Yes       Yes           1   0.458821   \n",
       "64      No         No      No           No        No           0   0.228428   \n",
       "\n",
       "    yhat  \n",
       "8      0  \n",
       "71     1  \n",
       "83     0  \n",
       "28     1  \n",
       "64     0  "
      ]
     },
     "execution_count": 223,
     "metadata": {},
     "output_type": "execute_result"
    }
   ],
   "source": [
    "df_test['yhat']=1*(df_test['phat_test']>0.35)\n",
    "df_test.head()"
   ]
  },
  {
   "cell_type": "code",
   "execution_count": 224,
   "metadata": {},
   "outputs": [
    {
     "name": "stdout",
     "output_type": "stream",
     "text": [
      "tpr: 0.7142857142857143\n",
      "fpr: 0.38461538461538464\n"
     ]
    }
   ],
   "source": [
    "confusion_matrix(y_true=df_test['Depression'], y_pred=df_test['yhat'])\n",
    "tn, fp, fn, tp = confusion_matrix(y_true=df_test['Depression'], \n",
    "                                  y_pred=df_test['yhat']).ravel()\n",
    "tpr = tp/(tp+fn)\n",
    "fpr = fp/(fp+tn)\n",
    "print('tpr:',tpr)\n",
    "print('fpr:',fpr)"
   ]
  },
  {
   "cell_type": "markdown",
   "metadata": {},
   "source": [
    "## 6. Conclusion"
   ]
  },
  {
   "cell_type": "markdown",
   "metadata": {},
   "source": [
    "For the the relationship between depression and gender in the dataset, I found that... Furthermore, the relationship between depression and gender change for different values of ages in the dataset...\n",
    "\n",
    "For the inference section, I found that there is not enough evidence to state that there an association between depression and gender in the population of all university students.\n",
    "\n",
    "Through the linear regression analysis, I found that there is not a relationship between a student's age and his/her marital status and whether he/she has depression, axiety, or panic attack.\n",
    "\n",
    "Through the logistic regression analysis, which found a model using the backward elimination algorithm. This logistic model demonstrated that there is there a linear relationship between the log odds of whether or not a university student has depression and whether they have anxiety; however, there is not enough evidence to state that there is a linear relationship between the the log odds of whether or not a university student has depression and the student's age and gender, which are part of the final model in the backwards elimination algorithm."
   ]
  },
  {
   "cell_type": "markdown",
   "metadata": {},
   "source": [
    "Future Work: If I was to conduct future work based on these analyses, I would gather a greater sample size, noting which universities these students come from in order to ensure an independent random sample. I would also add more insightful questions to the survey such as someone's socioeconomic background, family history of mental illness, history of chilhood abuse/trauma, and their race or ethnicity. Since these are known factors that affect mental illness, we can see if there is a trend amongst university students. Another thing to note is that the survey from this dataset was taken in 2020, as noted in the timestamps. This is during the beginning or the COVID pandemic when the lockdown was prevalent and enforced; therefore, this could have influenced the mental health issues in students due to the isolation. It would be interesting to compare a new survey with this survey to see if there are any differences."
   ]
  },
  {
   "cell_type": "markdown",
   "metadata": {},
   "source": []
  }
 ],
 "metadata": {
  "interpreter": {
   "hash": "1f2105c49f8c0723fac6b2e3453e8971f450cd0b5feacec7fa5953efd6ccc25c"
  },
  "kernelspec": {
   "display_name": "Python 3 (ipykernel)",
   "language": "python",
   "name": "python3"
  },
  "language_info": {
   "codemirror_mode": {
    "name": "ipython",
    "version": 3
   },
   "file_extension": ".py",
   "mimetype": "text/x-python",
   "name": "python",
   "nbconvert_exporter": "python",
   "pygments_lexer": "ipython3",
   "version": "3.10.5"
  }
 },
 "nbformat": 4,
 "nbformat_minor": 4
}
